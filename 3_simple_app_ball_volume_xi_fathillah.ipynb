{
  "nbformat": 4,
  "nbformat_minor": 0,
  "metadata": {
    "colab": {
      "provenance": [],
      "authorship_tag": "ABX9TyPniteVfQt4+aGFaj9dAP62",
      "include_colab_link": true
    },
    "kernelspec": {
      "name": "python3",
      "display_name": "Python 3"
    },
    "language_info": {
      "name": "python"
    }
  },
  "cells": [
    {
      "cell_type": "markdown",
      "metadata": {
        "id": "view-in-github",
        "colab_type": "text"
      },
      "source": [
        "<a href=\"https://colab.research.google.com/github/fathillahdarojad/kka-semester-1/blob/main/3_simple_app_ball_volume_xi_fathillah.ipynb\" target=\"_parent\"><img src=\"https://colab.research.google.com/assets/colab-badge.svg\" alt=\"Open In Colab\"/></a>"
      ]
    },
    {
      "cell_type": "markdown",
      "source": [
        "#Aplikasi sederhana menghitung volume"
      ],
      "metadata": {
        "id": "BC2a642fgFQ_"
      }
    },
    {
      "cell_type": "markdown",
      "source": [
        "NAMA = Fathillah Akbar Darojad\n",
        "KELAS = XI.1\n",
        "NO = 11\n",
        "NAMA KELOMPOK= hampstead"
      ],
      "metadata": {
        "id": "a3W4rKJogUWK"
      }
    },
    {
      "cell_type": "code",
      "execution_count": null,
      "metadata": {
        "colab": {
          "base_uri": "https://localhost:8080/"
        },
        "id": "e89aDmuqeGH9",
        "outputId": "b705eec9-11b2-4f9a-a613-a5297eae6cd7"
      },
      "outputs": [
        {
          "output_type": "stream",
          "name": "stdout",
          "text": [
            "Masukkan panjang alas segitiga (cm): 4\n",
            "Masukkan tinggi segitiga (cm): 3\n",
            "Masukkan tinggi prisma (cm): 2\n",
            "Volume prisma segitiga adalah: 12.0 cm³\n"
          ]
        }
      ],
      "source": [
        "\n",
        "\n",
        "alas = float(input(\"Masukkan panjang alas segitiga (cm): \"))\n",
        "tinggi_segitiga = float(input(\"Masukkan tinggi segitiga (cm): \"))\n",
        "tinggi_prisma = float(input(\"Masukkan tinggi prisma (cm): \"))\n",
        "\n",
        "volume = 0.5 * alas * tinggi_segitiga * tinggi_prisma\n",
        "\n",
        "print(f\"Volume prisma segitiga adalah: {volume} cm³\")"
      ]
    }
  ]
}